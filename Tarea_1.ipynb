{
 "cells": [
  {
   "cell_type": "markdown",
   "id": "3a920949",
   "metadata": {},
   "source": [
    "# Mi primer programa\n"
   ]
  },
  {
   "cell_type": "markdown",
   "id": "191a5c33",
   "metadata": {},
   "source": [
    "Saludo"
   ]
  },
  {
   "cell_type": "code",
   "execution_count": 1,
   "id": "82bf3d96",
   "metadata": {},
   "outputs": [
    {
     "name": "stdout",
     "output_type": "stream",
     "text": [
      "Mola Mundo\n"
     ]
    }
   ],
   "source": [
    "print('Mola Mundo')"
   ]
  },
  {
   "cell_type": "markdown",
   "id": "ae2cc63c",
   "metadata": {},
   "source": [
    "Operaciones Aritméticas Simples"
   ]
  },
  {
   "cell_type": "code",
   "execution_count": 9,
   "id": "3fa13497",
   "metadata": {},
   "outputs": [],
   "source": [
    "a = 8\n",
    "b = 5"
   ]
  },
  {
   "cell_type": "markdown",
   "id": "70bc4be3",
   "metadata": {},
   "source": [
    "Suma"
   ]
  },
  {
   "cell_type": "code",
   "execution_count": 10,
   "id": "76eb361b",
   "metadata": {},
   "outputs": [],
   "source": [
    "c = a + b           "
   ]
  },
  {
   "cell_type": "code",
   "execution_count": 11,
   "id": "658fd638",
   "metadata": {},
   "outputs": [
    {
     "name": "stdout",
     "output_type": "stream",
     "text": [
      "13\n"
     ]
    }
   ],
   "source": [
    "print(c)"
   ]
  },
  {
   "cell_type": "markdown",
   "id": "4500e5e9",
   "metadata": {},
   "source": [
    "Resta"
   ]
  },
  {
   "cell_type": "code",
   "execution_count": 12,
   "id": "0af889af",
   "metadata": {},
   "outputs": [],
   "source": [
    "c = a - b"
   ]
  },
  {
   "cell_type": "code",
   "execution_count": 13,
   "id": "ea912762",
   "metadata": {},
   "outputs": [
    {
     "name": "stdout",
     "output_type": "stream",
     "text": [
      "3\n"
     ]
    }
   ],
   "source": [
    "print(c)"
   ]
  },
  {
   "cell_type": "markdown",
   "id": "a6226299",
   "metadata": {},
   "source": [
    "Multiplicación"
   ]
  },
  {
   "cell_type": "code",
   "execution_count": 14,
   "id": "fee9e7fa",
   "metadata": {},
   "outputs": [],
   "source": [
    "c = a * b"
   ]
  },
  {
   "cell_type": "code",
   "execution_count": 15,
   "id": "35e0aa2a",
   "metadata": {},
   "outputs": [
    {
     "name": "stdout",
     "output_type": "stream",
     "text": [
      "40\n"
     ]
    }
   ],
   "source": [
    "print(c)"
   ]
  },
  {
   "cell_type": "markdown",
   "id": "3ba18187",
   "metadata": {},
   "source": [
    "División"
   ]
  },
  {
   "cell_type": "code",
   "execution_count": 16,
   "id": "243d892c",
   "metadata": {},
   "outputs": [],
   "source": [
    "c = a / b"
   ]
  },
  {
   "cell_type": "code",
   "execution_count": 17,
   "id": "66641d64",
   "metadata": {},
   "outputs": [
    {
     "name": "stdout",
     "output_type": "stream",
     "text": [
      "1.6\n"
     ]
    }
   ],
   "source": [
    "print(c)"
   ]
  }
 ],
 "metadata": {
  "kernelspec": {
   "display_name": "base",
   "language": "python",
   "name": "python3"
  },
  "language_info": {
   "codemirror_mode": {
    "name": "ipython",
    "version": 3
   },
   "file_extension": ".py",
   "mimetype": "text/x-python",
   "name": "python",
   "nbconvert_exporter": "python",
   "pygments_lexer": "ipython3",
   "version": "3.13.5"
  }
 },
 "nbformat": 4,
 "nbformat_minor": 5
}
