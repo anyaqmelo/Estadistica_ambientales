{
 "cells": [
  {
   "cell_type": "code",
   "execution_count": 93,
   "id": "d4e90e72",
   "metadata": {},
   "outputs": [],
   "source": [
    "from tabulate import tabulate\n",
    "from math import log10, floor\n"
   ]
  },
  {
   "cell_type": "code",
   "execution_count": 94,
   "id": "37891983",
   "metadata": {},
   "outputs": [],
   "source": [
    "def import_csv(file):\n",
    "    import pandas as pd \n",
    "    return pd.read_csv(file)"
   ]
  },
  {
   "cell_type": "code",
   "execution_count": 95,
   "id": "0697c024",
   "metadata": {},
   "outputs": [],
   "source": [
    "def format_sig(x, sig=2):\n",
    "    if x == 0 or pd.isnull(x):\n",
    "        return \"0\"\n",
    "    return str(round(x, sig - int(floor(log10(abs(x)))) - 1))"
   ]
  },
  {
   "cell_type": "code",
   "execution_count": 96,
   "id": "d01fba95",
   "metadata": {},
   "outputs": [],
   "source": [
    "path = \"Terminos_lagoon_TA_.csv\""
   ]
  },
  {
   "cell_type": "code",
   "execution_count": 97,
   "id": "b432cc49",
   "metadata": {},
   "outputs": [],
   "source": [
    "CO2Data = import_csv(path)"
   ]
  },
  {
   "cell_type": "code",
   "execution_count": 98,
   "id": "27a2f256",
   "metadata": {},
   "outputs": [],
   "source": [
    "resultado = CO2Data.groupby([\"season\", \"estuary\"])[[\"dic_micromol_kg\",\"ta_micromol_kg\",\"sal_psu\"]].agg([\"mean\",\"std\"])"
   ]
  },
  {
   "cell_type": "code",
   "execution_count": 99,
   "id": "131069c6",
   "metadata": {},
   "outputs": [],
   "source": [
    "resultado.columns = [f\"{col[0]}_{col[1]}\" if col[1] else col[0] for col in resultado.columns]\n"
   ]
  },
  {
   "cell_type": "code",
   "execution_count": 101,
   "id": "13e0a3dd",
   "metadata": {},
   "outputs": [],
   "source": [
    "resultado = resultado.reset_index()"
   ]
  },
  {
   "cell_type": "code",
   "execution_count": 102,
   "id": "9498d8a0",
   "metadata": {},
   "outputs": [],
   "source": [
    "tabla_fmt = pd.DataFrame({\n",
    "    \"season\": resultado[\"season\"],\n",
    "    \"estuary\": resultado[\"estuary\"],\n",
    "    \"dic_micromol_kg\": [\n",
    "        f\"{format_sig(m)} ± {format_sig(s)}\"\n",
    "        for m, s in zip(resultado[\"dic_micromol_kg_mean\"], resultado[\"dic_micromol_kg_std\"])\n",
    "    ],\n",
    "    \"ta_micromol_kg\": [\n",
    "        f\"{format_sig(m)} ± {format_sig(s)}\"\n",
    "        for m, s in zip(resultado[\"ta_micromol_kg_mean\"], resultado[\"ta_micromol_kg_std\"])\n",
    "    ],\n",
    "    \"sal_psu\": [\n",
    "        f\"{format_sig(m)} ± {format_sig(s)}\"\n",
    "        for m, s in zip(resultado[\"sal_psu_mean\"], resultado[\"sal_psu_std\"])\n",
    "    ]\n",
    "})"
   ]
  },
  {
   "cell_type": "code",
   "execution_count": 103,
   "id": "f34b88db",
   "metadata": {},
   "outputs": [
    {
     "name": "stdout",
     "output_type": "stream",
     "text": [
      "+----------+------------+-------------------+------------------+-------------+\n",
      "| season   | estuary    | dic_micromol_kg   | ta_micromol_kg   | sal_psu     |\n",
      "+==========+============+===================+==================+=============+\n",
      "| Dry      | Candelaria | 2900.0 ± 630.0    | 3100.0 ± 560.0   | 24.0 ± 12.0 |\n",
      "+----------+------------+-------------------+------------------+-------------+\n",
      "| Dry      | Palizada   | 3000.0 ± 390.0    | 3100.0 ± 320.0   | 16.0 ± 14.0 |\n",
      "+----------+------------+-------------------+------------------+-------------+\n",
      "| Rainy    | Candelaria | 2500.0 ± 310.0    | 2500.0 ± 190.0   | 15.0 ± 14.0 |\n",
      "+----------+------------+-------------------+------------------+-------------+\n",
      "| Rainy    | Palizada   | 2500.0 ± 220.0    | 2500.0 ± 260.0   | 8.5 ± 9.9   |\n",
      "+----------+------------+-------------------+------------------+-------------+\n"
     ]
    }
   ],
   "source": [
    "print(tabulate(tabla_fmt, headers='keys', tablefmt='grid', showindex=False))"
   ]
  },
  {
   "cell_type": "code",
   "execution_count": 104,
   "id": "180077e9",
   "metadata": {},
   "outputs": [],
   "source": [
    "tabla_fmt.to_csv(\"tabla_CO2Data.csv\", index=False)"
   ]
  }
 ],
 "metadata": {
  "kernelspec": {
   "display_name": "base",
   "language": "python",
   "name": "python3"
  },
  "language_info": {
   "codemirror_mode": {
    "name": "ipython",
    "version": 3
   },
   "file_extension": ".py",
   "mimetype": "text/x-python",
   "name": "python",
   "nbconvert_exporter": "python",
   "pygments_lexer": "ipython3",
   "version": "3.13.5"
  }
 },
 "nbformat": 4,
 "nbformat_minor": 5
}
