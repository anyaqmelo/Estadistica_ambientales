{
 "cells": [
  {
   "cell_type": "markdown",
   "id": "c6ff9b06",
   "metadata": {},
   "source": [
    "# Pruebas de Normalidas"
   ]
  },
  {
   "cell_type": "code",
   "execution_count": 2,
   "id": "94572a60",
   "metadata": {},
   "outputs": [],
   "source": [
    "def import_csv(file):\n",
    "    import pandas as pd \n",
    "    return pd.read_csv(file)"
   ]
  },
  {
   "cell_type": "code",
   "execution_count": 3,
   "id": "27139a7e",
   "metadata": {},
   "outputs": [],
   "source": [
    "path = \"Terminos_lagoon_TA_.csv\""
   ]
  },
  {
   "cell_type": "code",
   "execution_count": 4,
   "id": "abbd25dc",
   "metadata": {},
   "outputs": [
    {
     "name": "stdout",
     "output_type": "stream",
     "text": [
      "<class 'pandas.core.frame.DataFrame'>\n",
      "RangeIndex: 106 entries, 0 to 105\n",
      "Data columns (total 21 columns):\n",
      " #   Column                   Non-Null Count  Dtype  \n",
      "---  ------                   --------------  -----  \n",
      " 0   sample                   106 non-null    object \n",
      " 1   date                     106 non-null    object \n",
      " 2   estuary                  106 non-null    object \n",
      " 3   area                     106 non-null    object \n",
      " 4   station                  106 non-null    object \n",
      " 5   layer_depth              106 non-null    object \n",
      " 6   season                   106 non-null    object \n",
      " 7   chlorophy_microg_l       106 non-null    float64\n",
      " 8   cond_microsiemens_cm     106 non-null    float64\n",
      " 9   depth_m                  106 non-null    float64\n",
      " 10  do_percent_sat           106 non-null    float64\n",
      " 11  do_mg_l                  106 non-null    float64\n",
      " 12  sal_psu                  106 non-null    float64\n",
      " 13  sp_cond_microsiemens_cm  106 non-null    float64\n",
      " 14  turbidity_fnu            106 non-null    float64\n",
      " 15  temp_c                   106 non-null    float64\n",
      " 16  latitude                 106 non-null    float64\n",
      " 17  longitude                106 non-null    float64\n",
      " 18  dic_micromol_kg          106 non-null    int64  \n",
      " 19  ta_micromol_kg           106 non-null    int64  \n",
      " 20  dummy_data               99 non-null     float64\n",
      "dtypes: float64(12), int64(2), object(7)\n",
      "memory usage: 17.5+ KB\n",
      "None\n"
     ]
    }
   ],
   "source": [
    "CO2Data = import_csv(path)\n",
    "print(CO2Data.info())"
   ]
  },
  {
   "cell_type": "markdown",
   "id": "72222ca7",
   "metadata": {},
   "source": [
    "- Shapiro-Wilk\n"
   ]
  },
  {
   "cell_type": "code",
   "execution_count": 12,
   "id": "2ed1ddf2",
   "metadata": {},
   "outputs": [
    {
     "name": "stdout",
     "output_type": "stream",
     "text": [
      "Los datos no tienen una distribución normal\n"
     ]
    }
   ],
   "source": [
    "from scipy.stats import shapiro\n",
    "\n",
    "TA = CO2Data['ta_micromol_kg']\n",
    "\n",
    "shapiro_results = shapiro(TA)\n",
    "\n",
    "if shapiro_results.pvalue < 0.05:\n",
    "    print(\"Los datos no tienen una distribución normal\")\n",
    "else: \n",
    "    print(\"Los datos tienen una distribución normal\")\n"
   ]
  },
  {
   "cell_type": "code",
   "execution_count": 13,
   "id": "8441cfe3",
   "metadata": {},
   "outputs": [
    {
     "name": "stdout",
     "output_type": "stream",
     "text": [
      "ShapiroResult(statistic=np.float64(0.8797113785286559), pvalue=np.float64(9.071435657097518e-08))\n"
     ]
    }
   ],
   "source": [
    "print(shapiro_results)"
   ]
  },
  {
   "cell_type": "markdown",
   "id": "09fe0bf4",
   "metadata": {},
   "source": [
    "- Kolmogorov-Smirnov"
   ]
  },
  {
   "cell_type": "code",
   "execution_count": 14,
   "id": "a91e4ea2",
   "metadata": {},
   "outputs": [
    {
     "name": "stdout",
     "output_type": "stream",
     "text": [
      "Los datos no tienen una distribución normal\n"
     ]
    }
   ],
   "source": [
    "from scipy.stats import kstest, norm\n",
    "\n",
    "kstest_results = kstest(TA, 'norm')\n",
    "\n",
    "if kstest_results.pvalue < 0.05:\n",
    "    print(\"Los datos no tienen una distribución normal\")\n",
    "else:\n",
    "    print(\"Los datos tienen una distribución normal\")"
   ]
  },
  {
   "cell_type": "code",
   "execution_count": 15,
   "id": "248ed4c1",
   "metadata": {},
   "outputs": [
    {
     "name": "stdout",
     "output_type": "stream",
     "text": [
      "KstestResult(statistic=np.float64(1.0), pvalue=np.float64(0.0), statistic_location=np.int64(2357), statistic_sign=np.int8(-1))\n"
     ]
    }
   ],
   "source": [
    "print(kstest_results)"
   ]
  },
  {
   "cell_type": "markdown",
   "id": "5885a849",
   "metadata": {},
   "source": [
    "Normalidad en el conjunto de datos DIC (carbono inorgánico disuelto)"
   ]
  },
  {
   "cell_type": "markdown",
   "id": "f7cf1c28",
   "metadata": {},
   "source": [
    "* Shapiro-Wilk"
   ]
  },
  {
   "cell_type": "code",
   "execution_count": 16,
   "id": "e070162e",
   "metadata": {},
   "outputs": [
    {
     "name": "stdout",
     "output_type": "stream",
     "text": [
      "Los datos no tienen una distribución normal\n"
     ]
    }
   ],
   "source": [
    "dic = CO2Data[\"dic_micromol_kg\"]\n",
    "\n",
    "shapiro_results = shapiro(dic)\n",
    "\n",
    "if shapiro_results.pvalue < 0.05:\n",
    "    print(\"Los datos no tienen una distribución normal\")\n",
    "else: \n",
    "    print(\"Los datos tienen una distribución normal\")\n"
   ]
  },
  {
   "cell_type": "code",
   "execution_count": 17,
   "id": "98bad748",
   "metadata": {},
   "outputs": [
    {
     "name": "stdout",
     "output_type": "stream",
     "text": [
      "ShapiroResult(statistic=np.float64(0.8599736220688631), pvalue=np.float64(1.3836938477781853e-08))\n"
     ]
    }
   ],
   "source": [
    "print(shapiro_results)"
   ]
  },
  {
   "cell_type": "markdown",
   "id": "9fed1d0a",
   "metadata": {},
   "source": [
    "* Kolmogorov-Smirnov"
   ]
  },
  {
   "cell_type": "code",
   "execution_count": 18,
   "id": "e2ccb974",
   "metadata": {},
   "outputs": [
    {
     "name": "stdout",
     "output_type": "stream",
     "text": [
      "Los datos no tienen una distribución normal\n"
     ]
    }
   ],
   "source": [
    "kstest_results = kstest(dic, 'norm')\n",
    "\n",
    "if kstest_results.pvalue < 0.05:\n",
    "    print(\"Los datos no tienen una distribución normal\")\n",
    "else:\n",
    "    print(\"Los datos tienen una distribución normal\")"
   ]
  },
  {
   "cell_type": "code",
   "execution_count": 19,
   "id": "0e701458",
   "metadata": {},
   "outputs": [
    {
     "name": "stdout",
     "output_type": "stream",
     "text": [
      "KstestResult(statistic=np.float64(1.0), pvalue=np.float64(0.0), statistic_location=np.int64(2152), statistic_sign=np.int8(-1))\n"
     ]
    }
   ],
   "source": [
    "print(kstest_results)"
   ]
  },
  {
   "cell_type": "markdown",
   "id": "965c3b50",
   "metadata": {},
   "source": [
    "Normalidad en los conjuntos de datos de salinidad"
   ]
  },
  {
   "cell_type": "markdown",
   "id": "56f5550c",
   "metadata": {},
   "source": [
    "* Shapiro-Wilk"
   ]
  },
  {
   "cell_type": "code",
   "execution_count": 20,
   "id": "44b7bb99",
   "metadata": {},
   "outputs": [
    {
     "name": "stdout",
     "output_type": "stream",
     "text": [
      "Los datos no tienen una distribución normal\n"
     ]
    }
   ],
   "source": [
    "sal = CO2Data[\"sal_psu\"]\n",
    "\n",
    "shapiro_results = shapiro(sal)\n",
    "\n",
    "if shapiro_results.pvalue < 0.05:\n",
    "    print(\"Los datos no tienen una distribución normal\")\n",
    "else: \n",
    "    print(\"Los datos tienen una distribución normal\")\n"
   ]
  },
  {
   "cell_type": "code",
   "execution_count": 21,
   "id": "c5627cfe",
   "metadata": {},
   "outputs": [
    {
     "name": "stdout",
     "output_type": "stream",
     "text": [
      "ShapiroResult(statistic=np.float64(0.8866640922105421), pvalue=np.float64(1.8388502511052347e-07))\n"
     ]
    }
   ],
   "source": [
    "print(shapiro_results)"
   ]
  },
  {
   "cell_type": "markdown",
   "id": "aa130123",
   "metadata": {},
   "source": [
    "* Kolmogorov-Smirnov"
   ]
  },
  {
   "cell_type": "code",
   "execution_count": 22,
   "id": "02f89413",
   "metadata": {},
   "outputs": [
    {
     "name": "stdout",
     "output_type": "stream",
     "text": [
      "Los datos no tienen una distribución normal\n"
     ]
    }
   ],
   "source": [
    "kstest_results = kstest(sal, 'norm')\n",
    "\n",
    "if kstest_results.pvalue < 0.05:\n",
    "    print(\"Los datos no tienen una distribución normal\")\n",
    "else:\n",
    "    print(\"Los datos tienen una distribución normal\")"
   ]
  },
  {
   "cell_type": "code",
   "execution_count": 23,
   "id": "5a2cfefc",
   "metadata": {},
   "outputs": [
    {
     "name": "stdout",
     "output_type": "stream",
     "text": [
      "KstestResult(statistic=np.float64(0.726711589073201), pvalue=np.float64(1.5603605553602308e-57), statistic_location=np.float64(2.36), statistic_sign=np.int8(-1))\n"
     ]
    }
   ],
   "source": [
    "print(kstest_results)"
   ]
  }
 ],
 "metadata": {
  "kernelspec": {
   "display_name": "base",
   "language": "python",
   "name": "python3"
  },
  "language_info": {
   "codemirror_mode": {
    "name": "ipython",
    "version": 3
   },
   "file_extension": ".py",
   "mimetype": "text/x-python",
   "name": "python",
   "nbconvert_exporter": "python",
   "pygments_lexer": "ipython3",
   "version": "3.13.5"
  }
 },
 "nbformat": 4,
 "nbformat_minor": 5
}
