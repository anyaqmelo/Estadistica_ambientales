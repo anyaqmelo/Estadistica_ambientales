{
 "cells": [
  {
   "cell_type": "code",
   "execution_count": null,
   "id": "38ad8944",
   "metadata": {},
   "outputs": [],
   "source": []
  },
  {
   "cell_type": "markdown",
   "id": "91c62edb",
   "metadata": {},
   "source": [
    "# Nonparametric Kruskall-Wallis"
   ]
  },
  {
   "cell_type": "code",
   "execution_count": null,
   "id": "4df64627",
   "metadata": {},
   "outputs": [],
   "source": [
    "def import_csv(file):\n",
    "    import pandas as pd \n",
    "    return pd.read_csv(file)"
   ]
  }
 ],
 "metadata": {
  "language_info": {
   "name": "python"
  }
 },
 "nbformat": 4,
 "nbformat_minor": 5
}
