{
 "cells": [
  {
   "cell_type": "code",
   "execution_count": 1,
   "id": "adf63a7d",
   "metadata": {},
   "outputs": [],
   "source": [
    "def saludar():\n",
    "    print(\"¡Hola, mundo!\")"
   ]
  },
  {
   "cell_type": "code",
   "execution_count": 2,
   "id": "8107ada4",
   "metadata": {},
   "outputs": [
    {
     "name": "stdout",
     "output_type": "stream",
     "text": [
      "¡Hola, mundo!\n"
     ]
    }
   ],
   "source": [
    "saludar()"
   ]
  },
  {
   "cell_type": "code",
   "execution_count": 3,
   "id": "25980b42",
   "metadata": {},
   "outputs": [],
   "source": [
    "def suma(a, b):\n",
    "    return a + b"
   ]
  },
  {
   "cell_type": "code",
   "execution_count": 7,
   "id": "9ee983a6",
   "metadata": {},
   "outputs": [
    {
     "name": "stdout",
     "output_type": "stream",
     "text": [
      "13\n"
     ]
    }
   ],
   "source": [
    "resultado = suma(8, 5)\n",
    "\n",
    "print(resultado)"
   ]
  },
  {
   "cell_type": "markdown",
   "id": "6e6a5072",
   "metadata": {},
   "source": [
    "Composición de Funciones"
   ]
  },
  {
   "cell_type": "code",
   "execution_count": 8,
   "id": "0659eded",
   "metadata": {},
   "outputs": [],
   "source": [
    "def sum_dos_numeros(num1, num2):\n",
    "    return num1 + num2"
   ]
  },
  {
   "cell_type": "code",
   "execution_count": 9,
   "id": "41823bea",
   "metadata": {},
   "outputs": [],
   "source": [
    "def cuadrado_numero(num):\n",
    "    return num * num "
   ]
  },
  {
   "cell_type": "code",
   "execution_count": 10,
   "id": "d756ff84",
   "metadata": {},
   "outputs": [],
   "source": [
    "def cuadrado_sum(num1, num2):\n",
    "    return cuadrado_numero(sum_dos_numeros(num1,num2))"
   ]
  },
  {
   "cell_type": "code",
   "execution_count": 11,
   "id": "29e1f1eb",
   "metadata": {},
   "outputs": [
    {
     "name": "stdout",
     "output_type": "stream",
     "text": [
      "25\n"
     ]
    }
   ],
   "source": [
    "print(cuadrado_sum(2, 3))"
   ]
  },
  {
   "cell_type": "markdown",
   "id": "a0f5bb79",
   "metadata": {},
   "source": [
    "Tarea: Valor absoluto de un número"
   ]
  },
  {
   "cell_type": "code",
   "execution_count": 12,
   "id": "607052d0",
   "metadata": {},
   "outputs": [],
   "source": [
    "def f(x):\n",
    "    return x >= 0"
   ]
  },
  {
   "cell_type": "code",
   "execution_count": 13,
   "id": "32d43605",
   "metadata": {},
   "outputs": [],
   "source": [
    "def g(x):\n",
    "    if f(x):   \n",
    "        return x\n",
    "    else:    \n",
    "        return -x"
   ]
  },
  {
   "cell_type": "code",
   "execution_count": 14,
   "id": "845163d6",
   "metadata": {},
   "outputs": [
    {
     "name": "stdout",
     "output_type": "stream",
     "text": [
      "|-6| = 6\n",
      "|-3| = 3\n",
      "|0| = 0\n",
      "|7| = 7\n",
      "|120| = 120\n"
     ]
    }
   ],
   "source": [
    "for n in [-6, -3, 0, 7, 120]:\n",
    "    print(f\"|{n}| = {g(n)}\")"
   ]
  }
 ],
 "metadata": {
  "kernelspec": {
   "display_name": "base",
   "language": "python",
   "name": "python3"
  },
  "language_info": {
   "codemirror_mode": {
    "name": "ipython",
    "version": 3
   },
   "file_extension": ".py",
   "mimetype": "text/x-python",
   "name": "python",
   "nbconvert_exporter": "python",
   "pygments_lexer": "ipython3",
   "version": "3.13.5"
  }
 },
 "nbformat": 4,
 "nbformat_minor": 5
}
